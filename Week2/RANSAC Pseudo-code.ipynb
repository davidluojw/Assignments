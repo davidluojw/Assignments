{
 "cells": [
  {
   "cell_type": "markdown",
   "metadata": {},
   "source": [
    "# RANSAC(Random Sample Consensus) 伪代码\n",
    "\n",
    "## 给定：<br />\n",
    "* `data` —— 一系列可观测的数据点<br />\n",
    "* `model` —— 一个可以拟合该数据点集的模型<br />\n",
    "* `n` — 可以拟合该模型所需的最少数据点个数<br />\n",
    "* `k` —— 算法中允许迭代的最大次数<br />\n",
    "* `t` —— 一个用于判断一个数据点是否可以拟合该模型的阈值<br />\n",
    "* `d` —— 判断该模型是否对数据集拟合得比较好所需的数据点个数<br />\n",
    "\n",
    "## 输出：<br />\n",
    "* `bestfit` —— 能够拟合得最好的模型参数（或者如果找不到最好的模型，则输出null）"
   ]
  },
  {
   "cell_type": "markdown",
   "metadata": {},
   "source": [
    "## 伪代码：<br />\n",
    "* `iterations` = 0 <br />\n",
    "* `bestfit` = null<br />\n",
    "* `besterr` = 无穷大<br />\n",
    "* ***while*** `iterations` < `k`:<br />\n",
    "    * `maybeinliers` = 从数据集随机选择n个数据<br />\n",
    "    * `maybemodel` = 能够拟合 ~maybeinliers~ 的模型参数<br />\n",
    "    * `alsoinliers` = 空集<br />\n",
    "    * ***for*** 不在 `maybeinliers` 里的数据点：<br />\n",
    "        * ***if*** 是在误差范围小于 `t`下可以拟合该模型的数据点：<br />\n",
    "            * 把这些点加进 `alsoinliers`<br />\n",
    "    * ***if*** 当在 `alsoinliers` 的数据点个数 > `d`：<br />\n",
    "        * 这表明我们找到一个好的模型<br />\n",
    "        * 现在测试一下有多好<br />\n",
    "        * `bettermodel` = 可以拟合 `meybeinliers` 和 `alsoinliers` 所有点的模型参数<br />\n",
    "        * `thiserr` = 一个可以衡量这个模型有多好地拟合这些数据点<br />\n",
    "        * ***if*** `thiserr` < `besterr`:<br />\n",
    "            * `bestfit` = `bettermodel`<br />\n",
    "            * `besterr` = `thiserr`<br />\n",
    "    * 累加`iteration`<br />\n",
    "* ***return*** `bestfit`<br />"
   ]
  },
  {
   "cell_type": "code",
   "execution_count": null,
   "metadata": {},
   "outputs": [],
   "source": []
  }
 ],
 "metadata": {
  "kernelspec": {
   "display_name": "Python 3",
   "language": "python",
   "name": "python3"
  },
  "language_info": {
   "codemirror_mode": {
    "name": "ipython",
    "version": 3
   },
   "file_extension": ".py",
   "mimetype": "text/x-python",
   "name": "python",
   "nbconvert_exporter": "python",
   "pygments_lexer": "ipython3",
   "version": "3.7.1"
  }
 },
 "nbformat": 4,
 "nbformat_minor": 2
}
