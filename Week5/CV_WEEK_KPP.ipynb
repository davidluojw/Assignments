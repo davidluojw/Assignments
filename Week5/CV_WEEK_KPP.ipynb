{
 "cells": [
  {
   "cell_type": "code",
   "execution_count": 1,
   "metadata": {},
   "outputs": [],
   "source": [
    "import pandas as pd\n",
    "import numpy as np\n",
    "import matplotlib.pyplot as plt\n",
    "import cv2"
   ]
  },
  {
   "cell_type": "code",
   "execution_count": 38,
   "metadata": {},
   "outputs": [],
   "source": [
    "def assignment(df, centroids, colmap):\n",
    "    for i in centroids.keys():\n",
    "        # distance 获取每个样本点到聚类中心的距离\n",
    "        df['distance_from_{}'.format(i)] = (\n",
    "            np.sqrt(\n",
    "                (df['x'] - centroids[i][0]) ** 2 + (df['y'] - centroids[i][1]) ** 2\n",
    "            )\n",
    "        )\n",
    "    # color\n",
    "    distance_from_centroid_id = ['distance_from_{}'.format(i) for i in centroids.keys()]   # 获取每个样本点到聚类中心的距离的index\n",
    "    df['closest'] = df.loc[:, distance_from_centroid_id].idxmin(axis = 1)  # 获取每个样本点到聚类中心的最小距离的index，添加 closest列\n",
    "    df['closest'] = df['closest'].map(lambda x: int(x.lstrip('distance_from_')))  # 删掉closest列的元素名字中的distance_from_，保留数字\n",
    "    df['color'] = df['closest'].map(lambda x: colmap[x])   # 添加 color列\n",
    "    return df"
   ]
  },
  {
   "cell_type": "code",
   "execution_count": 39,
   "metadata": {},
   "outputs": [],
   "source": [
    "def update(df, centroids):\n",
    "    \n",
    "    # recaculate the centroids\n",
    "    # 把分配好的样本点在本类当中重新计算中心点\n",
    "    for i in centroids.keys():\n",
    "        centroids[i][0] = np.mean(df[df['closest'] == i]['x'])  \n",
    "        centroids[i][1] = np.mean(df[df['closest'] == i]['y'])\n",
    "    return centroids"
   ]
  },
  {
   "cell_type": "code",
   "execution_count": 58,
   "metadata": {},
   "outputs": [],
   "source": [
    "def kpp_centers(df, colmap, k):\n",
    "    '''\n",
    "    1. take 1 center c1, chosen uniformly at random from X\n",
    "    2. take a new center ci, choosing xi from X with probability D(xi)^2/(D(x1)^2+..+D(xi)^2+..+D(xn)^2)\n",
    "    3. repeat step 2, until we have taken k centers altogether\n",
    "    '''\n",
    "    centroid_init_id = np.random.randint(len(df))\n",
    "    centroids = {}\n",
    "    centroids[0] = [df['x'][centroid_init_id], df['y'][centroid_init_id]]\n",
    "    num_samples = len(df)\n",
    "    for j in range(1, k + 1):\n",
    "        total = 0.0\n",
    "        \n",
    "        # distance 获取每个样本点与聚类中心点的距离\n",
    "        df['distance_from_{}'.format(j - 1)] = (\n",
    "            np.sqrt((df['x'] - centroids[j - 1][0]) ** 2 + (df['y'] - centroids[j - 1][1]) ** 2)\n",
    "        )\n",
    "        \n",
    "        # 获取每个样本点到聚类中心的距离的index\n",
    "        distance_from_centroid_id = ['distance_from_{}'.format(j - 1) for i in centroids.keys()]  \n",
    "        \n",
    "        # 获取每个样本点到聚类中心的最小距离的index，添加 closest列\n",
    "        df['closest'] = df.loc[:, distance_from_centroid_id].idxmin(axis = 1)   \n",
    "        \n",
    "        # 删掉closest列的元素名字中的distance_from_，保留数字\n",
    "        df['closest'] = df['closest'].map(lambda x: int(x.lstrip('distance_from_')))\n",
    "        \n",
    "        # 每个样本最近的聚类中心距离求和\n",
    "        for a in range(num_samples):\n",
    "            total += df['distance_from_{}'.format(df['closest'][a])][a]\n",
    "        total *= np.random.random()     # 取一个能落在total中的随机值\n",
    "        \n",
    "        # df['color'] 每次循环更新一次\n",
    "        df['color'] = df['closest'].map(lambda x: colmap[x])\n",
    "        \n",
    "        # 用轮盘法选出下一个聚类中心， 让total依次减去每个样本的最近聚类中心距离，当total<0，此时的点为下一个聚类中心\n",
    "        for i in range(num_samples):\n",
    "            if j > 2:\n",
    "                break \n",
    "            total -= df['distance_from_{}'.format(j - 1)][i]\n",
    "            if total > 0:\n",
    "                continue\n",
    "            centroids[j] = [df['x'][i], df['y'][i]]\n",
    "            break\n",
    "        print(df)\n",
    "    return df, centroids"
   ]
  },
  {
   "cell_type": "code",
   "execution_count": 59,
   "metadata": {},
   "outputs": [],
   "source": [
    "def main():\n",
    "    # \n",
    "    # 返回类似excel的二维矩阵\n",
    "    df = pd.DataFrame({\n",
    "        'x':[12, 20, 28, 18, 10, 29, 33, 24, 45, 45, 52, 51, 52, 55, 53, 55, 61, 64, 69, 72, 23],\n",
    "        'y':[39, 36, 30, 52, 54, 20, 46, 55, 59, 63, 70, 66, 63, 58, 23, 14, 8, 19, 7, 24, 77]\n",
    "    })\n",
    "    \n",
    "    k = 3\n",
    "    \n",
    "    colmap = {0: 'r', 1: 'g', 2: 'b'}\n",
    "    \n",
    "    # 初始化中心点，使用kmeans++方法\n",
    "    df, centroids = kpp_centers(df, colmap, k)\n",
    "    df = assignment(df, centroids, colmap)\n",
    "    plt.scatter(df['x'], df['y'], color = df['color'], alpha = 0.5, edgecolor = 'k')\n",
    "    for i in centroids.keys():\n",
    "        plt.scatter(*centroids[i], color = colmap[i], linewidths = 6)\n",
    "    plt.xlim(0, 80)\n",
    "    plt.ylim(0, 80)\n",
    "    plt.show()\n",
    "    \n",
    "    for i in range(10):\n",
    "        plt.close()\n",
    "        \n",
    "        closest_centroids = df['closest'].copy(deep = True)\n",
    "        centroids = update(df, centroids)\n",
    "        \n",
    "        plt.scatter(df['x'], df['y'], color = df['color'], alpha = 0.5, edgecolor = 'k')\n",
    "        for i in centroids.keys():\n",
    "            plt.scatter(*centroids[i], color = colmap[i], linewidths = 6)\n",
    "        plt.xlim(0, 80)\n",
    "        plt.ylim(0, 80)\n",
    "        plt.show()\n",
    "        \n",
    "        df = assignment(df, centroids, colmap)\n",
    "        \n",
    "        if closest_centroids.equals(df['closest']):\n",
    "            break"
   ]
  },
  {
   "cell_type": "code",
   "execution_count": 61,
   "metadata": {},
   "outputs": [
    {
     "name": "stdout",
     "output_type": "stream",
     "text": [
      "     x   y  distance_from_0  closest color\n",
      "0   12  39        57.982756        0     r\n",
      "1   20  36        49.648766        0     r\n",
      "2   28  30        39.661064        0     r\n",
      "3   18  52        61.522354        0     r\n",
      "4   10  54        68.680419        0     r\n",
      "5   29  20        34.176015        0     r\n",
      "6   33  46        47.201695        0     r\n",
      "7   24  55        59.816386        0     r\n",
      "8   45  59        53.450912        0     r\n",
      "9   45  63        57.280014        0     r\n",
      "10  52  70        62.649820        0     r\n",
      "11  51  66        58.855756        0     r\n",
      "12  52  63        55.731499        0     r\n",
      "13  55  58        50.358713        0     r\n",
      "14  53  23        17.000000        0     r\n",
      "15  55  14         8.485281        0     r\n",
      "16  61   8         0.000000        0     r\n",
      "17  64  19        11.401754        0     r\n",
      "18  69   7         8.062258        0     r\n",
      "19  72  24        19.416488        0     r\n",
      "20  23  77        78.771822        0     r\n",
      "     x   y  distance_from_0  closest color  distance_from_1\n",
      "0   12  39        57.982756        1     g         0.000000\n",
      "1   20  36        49.648766        1     g         8.544004\n",
      "2   28  30        39.661064        1     g        18.357560\n",
      "3   18  52        61.522354        1     g        14.317821\n",
      "4   10  54        68.680419        1     g        15.132746\n",
      "5   29  20        34.176015        1     g        25.495098\n",
      "6   33  46        47.201695        1     g        22.135944\n",
      "7   24  55        59.816386        1     g        20.000000\n",
      "8   45  59        53.450912        1     g        38.587563\n",
      "9   45  63        57.280014        1     g        40.804412\n",
      "10  52  70        62.649820        1     g        50.606324\n",
      "11  51  66        58.855756        1     g        47.434165\n",
      "12  52  63        55.731499        1     g        46.647615\n",
      "13  55  58        50.358713        1     g        47.010637\n",
      "14  53  23        17.000000        1     g        44.011362\n",
      "15  55  14         8.485281        1     g        49.739320\n",
      "16  61   8         0.000000        1     g        57.982756\n",
      "17  64  19        11.401754        1     g        55.713553\n",
      "18  69   7         8.062258        1     g        65.368188\n",
      "19  72  24        19.416488        1     g        61.846584\n",
      "20  23  77        78.771822        1     g        39.560081\n",
      "     x   y  distance_from_0  closest color  distance_from_1  distance_from_2\n",
      "0   12  39        57.982756        2     b         0.000000        50.606324\n",
      "1   20  36        49.648766        2     b         8.544004        46.690470\n",
      "2   28  30        39.661064        2     b        18.357560        46.647615\n",
      "3   18  52        61.522354        2     b        14.317821        38.470768\n",
      "4   10  54        68.680419        2     b        15.132746        44.944410\n",
      "5   29  20        34.176015        2     b        25.495098        55.036352\n",
      "6   33  46        47.201695        2     b        22.135944        30.610456\n",
      "7   24  55        59.816386        2     b        20.000000        31.764760\n",
      "8   45  59        53.450912        2     b        38.587563        13.038405\n",
      "9   45  63        57.280014        2     b        40.804412         9.899495\n",
      "10  52  70        62.649820        2     b        50.606324         0.000000\n",
      "11  51  66        58.855756        2     b        47.434165         4.123106\n",
      "12  52  63        55.731499        2     b        46.647615         7.000000\n",
      "13  55  58        50.358713        2     b        47.010637        12.369317\n",
      "14  53  23        17.000000        2     b        44.011362        47.010637\n",
      "15  55  14         8.485281        2     b        49.739320        56.080300\n",
      "16  61   8         0.000000        2     b        57.982756        62.649820\n",
      "17  64  19        11.401754        2     b        55.713553        52.392748\n",
      "18  69   7         8.062258        2     b        65.368188        65.253352\n",
      "19  72  24        19.416488        2     b        61.846584        50.159745\n",
      "20  23  77        78.771822        2     b        39.560081        29.832868\n"
     ]
    },
    {
     "data": {
      "image/png": "[encoded data removed]",
      "text/plain": [
       "<Figure size 432x288 with 1 Axes>"
      ]
     },
     "metadata": {
      "needs_background": "light"
     },
     "output_type": "display_data"
    },
    {
     "data": {
      "image/png": "[encoded data removed]",
      "text/plain": [
       "<Figure size 432x288 with 1 Axes>"
      ]
     },
     "metadata": {
      "needs_background": "light"
     },
     "output_type": "display_data"
    }
   ],
   "source": [
    "if __name__ == '__main__':\n",
    "    main()"
   ]
  },
  {
   "cell_type": "code",
   "execution_count": null,
   "metadata": {},
   "outputs": [],
   "source": []
  }
 ],
 "metadata": {
  "kernelspec": {
   "display_name": "Python 3",
   "language": "python",
   "name": "python3"
  },
  "language_info": {
   "codemirror_mode": {
    "name": "ipython",
    "version": 3
   },
   "file_extension": ".py",
   "mimetype": "text/x-python",
   "name": "python",
   "nbconvert_exporter": "python",
   "pygments_lexer": "ipython3",
   "version": "3.7.1"
  }
 },
 "nbformat": 4,
 "nbformat_minor": 2
}
