{
 "cells": [
  {
   "cell_type": "markdown",
   "metadata": {},
   "source": [
    "# 尝试做一个线性回归器"
   ]
  },
  {
   "cell_type": "code",
   "execution_count": 158,
   "metadata": {},
   "outputs": [],
   "source": [
    "from argparse import Namespace\n",
    "import matplotlib.pyplot as plt\n",
    "import numpy as np\n",
    "import random"
   ]
  },
  {
   "cell_type": "code",
   "execution_count": 172,
   "metadata": {},
   "outputs": [],
   "source": [
    "class SGDRegression(object):\n",
    "    def __init__(self, train_size, max_iter):\n",
    "        self.train_size = int(train_size)\n",
    "        self.learning_rate = 0.0005\n",
    "        self.max_iter = max_iter\n",
    "        self.batch_size = int(train_size - 1)\n",
    "        self.theta = np.array([1.0, 1.0])\n",
    "    \n",
    "    def train(self, x_train, y_train):\n",
    "        # 初始化\n",
    "        num_samples = len(x_train[0])\n",
    "        pred_y = np.zeros(len(x_train[0]))\n",
    "        loss = np.zeros(self.max_iter)\n",
    "        tag = 0\n",
    "        for i in range(self.max_iter):\n",
    "            # 从x_list中随机选择train_size个样本，返回选中的x_list的元素位置\n",
    "            batch_idxs = np.random.choice(len(x_train[0]), self.batch_size)\n",
    "            x_train_batch = np.array([x_train[:, j] for j in batch_idxs]).T\n",
    "            y_train_batch = np.array([y_train[j] for j in batch_idxs])\n",
    "            self.cal_step_gradient(x_train_batch, y_train_batch)\n",
    "            #print('b:{0}, w:{1}'.format(self.theta[1], self.theta[0]))\n",
    "            # eval_loss()函数是一个评价函数，评价损失函数\n",
    "            #print('loss is {0}'.format(self.eval_loss(x_train, y_train)))\n",
    "            loss[i] = self.eval_loss(x_train, y_train)\n",
    "        print('loss is {0}'.format(self.eval_loss(x_train, y_train)))\n",
    "        itera = np.array(range(self.max_iter))\n",
    "        plt.plot(itera, loss)\n",
    "        plt.show()\n",
    "    \n",
    "    def cal_step_gradient(self, x_train_batch, y_train_batch):\n",
    "        avg_dtheta = np.array([0.0, 0.0])\n",
    "        for i in range(self.batch_size):\n",
    "            pred_y = self.hypothesis(x_train_batch[:, i])  # 计算预测值\n",
    "            dw, db = self.gradient(pred_y, y_train_batch[i], x_train_batch[:, i])  # 计算当前步的梯度\n",
    "            avg_dtheta[1] += db\n",
    "            avg_dtheta[0] += dw\n",
    "        avg_dtheta[1] /= self.batch_size\n",
    "        avg_dtheta[0] /= self.batch_size\n",
    "        self.theta[1] -= self.learning_rate * avg_dtheta[1]\n",
    "        self.theta[0] -= self.learning_rate * avg_dtheta[0]\n",
    "            \n",
    "    def hypothesis(self, x_train):\n",
    "        pred_y = self.theta @ x_train\n",
    "        return pred_y\n",
    "    \n",
    "    # gradient: get dw & db\n",
    "    # 这里应该是得到损失函数关于各个参数的导数，dJ/dw 和 dJ/db\n",
    "    def gradient(self, pred_y, gt_y, x):\n",
    "        diff = pred_y - gt_y   # 这里对应的是损失函数的导数，gt_y = ground true 真实值，已知的\n",
    "        dw = diff * x[0]          # pred_y 是hypothesis算出来的\n",
    "        db = diff\n",
    "        return dw, db\n",
    "    \n",
    "    # 评价函数,其实计算的是损失函数\n",
    "    def eval_loss(self, x_train, y_train):\n",
    "        avg_loss = 0.0\n",
    "        avg_loss = np.mean(0.5 * (self.hypothesis(x_train) - y_train) ** 2)\n",
    "        return avg_loss\n",
    "    \n",
    "    \n",
    "    def pred(self, x_train):\n",
    "        pred_y = np.zeros(len(x_train))\n",
    "        for i in range(len(x_train)):\n",
    "            pred_y[i] = self.hypohesis(x_train[i])\n",
    "        return pred_y"
   ]
  },
  {
   "cell_type": "code",
   "execution_count": 162,
   "metadata": {},
   "outputs": [],
   "source": [
    "# 生成样本数据\n",
    "def gen_sample_data(theta, num_samples):\n",
    "    x_list = np.array([[i, 1] for i in range(num_samples)]).T\n",
    "    print('x_list:',x_list)\n",
    "    y_list = theta @ x_list\n",
    "    print('y_list:',y_list)\n",
    "    plt.scatter(x_list[0], y_list)\n",
    "    plt.show()\n",
    "    return x_list, y_list"
   ]
  },
  {
   "cell_type": "code",
   "execution_count": 163,
   "metadata": {},
   "outputs": [],
   "source": [
    "def train_test_split(x_list, y_list, train_size, seed):\n",
    "    random.seed(seed)    # 设置随机种子来保证实验结果的可重复性。\n",
    "    x_train = random.sample(tuple(x_list[0]), int(len(x_list[0]) * train_size))  # 从x_list中取75%个不重复的样本当做训练数据集\n",
    "    y_train = [y_list[list(x_list[0]).index(j)] for j in x_train]\n",
    "    x_test = [x_list[:, j] for j in range(len(x_list[0])) if x_list[0, j] not in x_train]\n",
    "    y_test = [y_list[j] for j in range(len(y_list)) if y_list[j] not in y_train]\n",
    "    x_train = np.array(x_train)\n",
    "    x_train = x_train[np.newaxis, :]\n",
    "    one = np.ones(len(x_train[0]))\n",
    "    one = one[np.newaxis, :]\n",
    "    x_train = np.append(x_train, one, axis = 0)\n",
    "    y_train = np.array(y_train)\n",
    "    x_test = np.array(x_test).T\n",
    "    y_test = np.array(y_test)\n",
    "    return x_train, y_train, x_test, y_test"
   ]
  },
  {
   "cell_type": "code",
   "execution_count": 179,
   "metadata": {},
   "outputs": [],
   "source": [
    "def run():\n",
    "    # 给定参数\n",
    "    # 利用Namespace把参数储存起来\n",
    "    args = Namespace(\n",
    "        seed = 1234,          # 指定随机种子，目的是为了使每一次生成的随机一致,伪随机数\n",
    "        num_samples = 100,    # 指定样本数量\n",
    "        train_size = 0.75,    # 训练数据集的大小\n",
    "        test_size = 0.25,     # 测试数据集的大下\n",
    "        num_epochs = 100000,     # 迭代次数\n",
    "    )\n",
    "    np.random.seed(args.seed)    # 设置随机种子来保证实验结果的可重复性。\n",
    "    #theta = np.array([np.random.randint(0, 10) + np.random.random(), np.random.randint(0, 5) + np.random.random()])   # random.random()是随机加了点噪声\n",
    "    theta = np.array([0.8, 6])\n",
    "    print('b_ori:', theta[1])\n",
    "    print('w_ori:', theta[0])\n",
    "    # 生成数据集\n",
    "    x_list, y_list= gen_sample_data(theta, args.num_samples)\n",
    "    # 划分训练集和测试集\n",
    "    x_train, y_train, x_test, y_test = train_test_split(x_list, y_list, args.train_size, args.seed)\n",
    "    print('x_train:',x_train)\n",
    "    print('y_train:',y_train)\n",
    "    print('x_test:',x_test)\n",
    "    print('y_test:',y_test)\n",
    "    lm = SGDRegression(args.train_size * args.num_samples, args.num_epochs)\n",
    "    lm.train(x_train, y_train)\n",
    "    print('w:', lm.theta[0])\n",
    "    print('b:', lm.theta[1])\n",
    "    print(lm.max_iter)\n",
    "    print(lm.batch_size)"
   ]
  },
  {
   "cell_type": "code",
   "execution_count": 180,
   "metadata": {},
   "outputs": [
    {
     "name": "stdout",
     "output_type": "stream",
     "text": [
      "b_ori: 6.0\n",
      "w_ori: 0.8\n",
      "x_list: [[ 0  1  2  3  4  5  6  7  8  9 10 11 12 13 14 15 16 17 18 19 20 21 22 23\n",
      "  24 25 26 27 28 29 30 31 32 33 34 35 36 37 38 39 40 41 42 43 44 45 46 47\n",
      "  48 49 50 51 52 53 54 55 56 57 58 59 60 61 62 63 64 65 66 67 68 69 70 71\n",
      "  72 73 74 75 76 77 78 79 80 81 82 83 84 85 86 87 88 89 90 91 92 93 94 95\n",
      "  96 97 98 99]\n",
      " [ 1  1  1  1  1  1  1  1  1  1  1  1  1  1  1  1  1  1  1  1  1  1  1  1\n",
      "   1  1  1  1  1  1  1  1  1  1  1  1  1  1  1  1  1  1  1  1  1  1  1  1\n",
      "   1  1  1  1  1  1  1  1  1  1  1  1  1  1  1  1  1  1  1  1  1  1  1  1\n",
      "   1  1  1  1  1  1  1  1  1  1  1  1  1  1  1  1  1  1  1  1  1  1  1  1\n",
      "   1  1  1  1]]\n",
      "y_list: [ 6.   6.8  7.6  8.4  9.2 10.  10.8 11.6 12.4 13.2 14.  14.8 15.6 16.4\n",
      " 17.2 18.  18.8 19.6 20.4 21.2 22.  22.8 23.6 24.4 25.2 26.  26.8 27.6\n",
      " 28.4 29.2 30.  30.8 31.6 32.4 33.2 34.  34.8 35.6 36.4 37.2 38.  38.8\n",
      " 39.6 40.4 41.2 42.  42.8 43.6 44.4 45.2 46.  46.8 47.6 48.4 49.2 50.\n",
      " 50.8 51.6 52.4 53.2 54.  54.8 55.6 56.4 57.2 58.  58.8 59.6 60.4 61.2\n",
      " 62.  62.8 63.6 64.4 65.2 66.  66.8 67.6 68.4 69.2 70.  70.8 71.6 72.4\n",
      " 73.2 74.  74.8 75.6 76.4 77.2 78.  78.8 79.6 80.4 81.2 82.  82.8 83.6\n",
      " 84.4 85.2]\n"
     ]
    },
    {
     "data": {
      "image/png": "[encoded data removed]",
      "text/plain": [
       "<Figure size 432x288 with 1 Axes>"
      ]
     },
     "metadata": {
      "needs_background": "light"
     },
     "output_type": "display_data"
    },
    {
     "name": "stdout",
     "output_type": "stream",
     "text": [
      "x_train: [[99. 56. 14.  0. 11. 74.  4. 85. 88. 10. 12. 45. 30.  2.  3. 86. 44. 82.\n",
      "  79. 61. 78. 59. 19. 95. 23. 97.  1. 64. 62. 31.  8. 81. 69. 76. 65.  5.\n",
      "  34. 52. 35. 93. 41. 77. 87. 54. 22. 17. 15. 68. 89. 29. 33. 42. 73. 32.\n",
      "  60. 96. 21.  9. 57. 24. 90. 92. 91. 70. 39. 37. 13. 48. 47. 50. 66. 40.\n",
      "  38. 16. 63.]\n",
      " [ 1.  1.  1.  1.  1.  1.  1.  1.  1.  1.  1.  1.  1.  1.  1.  1.  1.  1.\n",
      "   1.  1.  1.  1.  1.  1.  1.  1.  1.  1.  1.  1.  1.  1.  1.  1.  1.  1.\n",
      "   1.  1.  1.  1.  1.  1.  1.  1.  1.  1.  1.  1.  1.  1.  1.  1.  1.  1.\n",
      "   1.  1.  1.  1.  1.  1.  1.  1.  1.  1.  1.  1.  1.  1.  1.  1.  1.  1.\n",
      "   1.  1.  1.]]\n",
      "y_train: [85.2 50.8 17.2  6.  14.8 65.2  9.2 74.  76.4 14.  15.6 42.  30.   7.6\n",
      "  8.4 74.8 41.2 71.6 69.2 54.8 68.4 53.2 21.2 82.  24.4 83.6  6.8 57.2\n",
      " 55.6 30.8 12.4 70.8 61.2 66.8 58.  10.  33.2 47.6 34.  80.4 38.8 67.6\n",
      " 75.6 49.2 23.6 19.6 18.  60.4 77.2 29.2 32.4 39.6 64.4 31.6 54.  82.8\n",
      " 22.8 13.2 51.6 25.2 78.  79.6 78.8 62.  37.2 35.6 16.4 44.4 43.6 46.\n",
      " 58.8 38.  36.4 18.8 56.4]\n",
      "x_test: [[ 6  7 18 20 25 26 27 28 36 43 46 49 51 53 55 58 67 71 72 75 80 83 84 94\n",
      "  98]\n",
      " [ 1  1  1  1  1  1  1  1  1  1  1  1  1  1  1  1  1  1  1  1  1  1  1  1\n",
      "   1]]\n",
      "y_test: [10.8 11.6 20.4 22.  26.  26.8 27.6 28.4 34.8 40.4 42.8 45.2 46.8 48.4\n",
      " 50.  52.4 59.6 62.8 63.6 66.  70.  72.4 73.2 81.2 84.4]\n",
      "loss is 8.276491851737975e-12\n"
     ]
    },
    {
     "data": {
      "image/png": "[encoded data removed]",
      "text/plain": [
       "<Figure size 432x288 with 1 Axes>"
      ]
     },
     "metadata": {
      "needs_background": "light"
     },
     "output_type": "display_data"
    },
    {
     "name": "stdout",
     "output_type": "stream",
     "text": [
      "w: 0.8000001153134388\n",
      "b: 5.999992133304597\n",
      "100000\n",
      "74\n"
     ]
    }
   ],
   "source": [
    "# lr = 0.0001   max_iter = 10000     \n",
    "if __name__ == '__main__':\n",
    "    run()"
   ]
  },
  {
   "cell_type": "markdown",
   "metadata": {},
   "source": [
    "## 在学习率为0.0005，以及最大迭代步为几万步左右，模型收敛"
   ]
  },
  {
   "cell_type": "code",
   "execution_count": null,
   "metadata": {},
   "outputs": [],
   "source": []
  }
 ],
 "metadata": {
  "kernelspec": {
   "display_name": "Python 3",
   "language": "python",
   "name": "python3"
  },
  "language_info": {
   "codemirror_mode": {
    "name": "ipython",
    "version": 3
   },
   "file_extension": ".py",
   "mimetype": "text/x-python",
   "name": "python",
   "nbconvert_exporter": "python",
   "pygments_lexer": "ipython3",
   "version": "3.7.1"
  }
 },
 "nbformat": 4,
 "nbformat_minor": 2
}
