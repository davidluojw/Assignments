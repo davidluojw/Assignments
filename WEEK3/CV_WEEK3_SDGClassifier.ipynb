{
 "cells": [
  {
   "cell_type": "markdown",
   "metadata": {},
   "source": [
    "# 尝试做一个分类器"
   ]
  },
  {
   "cell_type": "code",
   "execution_count": 6,
   "metadata": {},
   "outputs": [],
   "source": [
    "from argparse import Namespace\n",
    "import matplotlib.pyplot as plt\n",
    "import numpy as np\n",
    "import random"
   ]
  },
  {
   "cell_type": "code",
   "execution_count": 63,
   "metadata": {},
   "outputs": [],
   "source": [
    "class SGDClassifier(object):\n",
    "    def __init__(self, train_size, max_iter):\n",
    "        self.train_size = int(train_size)\n",
    "        self.learning_rate = 1\n",
    "        self.max_iter = max_iter\n",
    "        self.batch_size = int(train_size - 1)\n",
    "        self.theta = np.array([1.0, 1.0])\n",
    "    \n",
    "    def train(self, x_train, y_train):\n",
    "        # 初始化\n",
    "        num_samples = len(x_train[0])\n",
    "        pred_y = np.zeros(len(x_train[0]))\n",
    "        loss = np.zeros(self.max_iter)\n",
    "        tag = 0\n",
    "        for i in range(self.max_iter):\n",
    "            # 从x_list中随机选择train_size个样本，返回选中的x_list的元素位置\n",
    "            batch_idxs = np.random.choice(len(x_train[0]), self.batch_size)\n",
    "            x_train_batch = np.array([x_train[:, j] for j in batch_idxs]).T\n",
    "            y_train_batch = np.array([y_train[j] for j in batch_idxs])\n",
    "            self.cal_step_gradient(x_train_batch, y_train_batch)\n",
    "            #print('b:{0}, w:{1}'.format(self.theta[1], self.theta[0]))\n",
    "            # eval_loss()函数是一个评价函数，评价损失函数\n",
    "            #print('loss is {0}'.format(self.eval_loss(x_train, y_train)))\n",
    "            loss[i] = self.eval_loss(x_train, y_train)\n",
    "        print('loss is {0}'.format(self.eval_loss(x_train, y_train)))\n",
    "        itera = np.array(range(self.max_iter))\n",
    "        plt.plot(itera, loss)\n",
    "        plt.show()\n",
    "    \n",
    "    def cal_step_gradient(self, x_train_batch, y_train_batch):\n",
    "        avg_dtheta = np.array([0.0, 0.0])\n",
    "        for i in range(self.batch_size):\n",
    "            pred_y = self.hypothesis(x_train_batch[:, i])  # 计算预测值\n",
    "            dw, db = self.gradient(pred_y, y_train_batch[i], x_train_batch[:, i])  # 计算当前步的梯度\n",
    "            avg_dtheta[1] += db\n",
    "            avg_dtheta[0] += dw\n",
    "        avg_dtheta[1] /= self.batch_size\n",
    "        avg_dtheta[0] /= self.batch_size\n",
    "        self.theta[1] -= self.learning_rate * avg_dtheta[1]\n",
    "        self.theta[0] -= self.learning_rate * avg_dtheta[0]\n",
    "            \n",
    "    def hypothesis(self, x_train):\n",
    "        pred_y = self.theta @ x_train\n",
    "        pred_y = 1 / (1 + np.exp(-pred_y))\n",
    "        return pred_y\n",
    "    \n",
    "    # gradient: get dw & db\n",
    "    # 这里应该是得到损失函数关于各个参数的导数，dJ/dw 和 dJ/db\n",
    "    def gradient(self, pred_y, gt_y, x):\n",
    "        diff = pred_y - gt_y   # 这里对应的是损失函数的导数，gt_y = ground true 真实值，已知的\n",
    "        dw = diff * x[0]          # pred_y 是hypothesis算出来的\n",
    "        db = diff\n",
    "        return dw, db\n",
    "    \n",
    "    # 评价函数,其实计算的是损失函数\n",
    "    def eval_loss(self, x_train, y_train):\n",
    "        avg_loss = 0.0\n",
    "        avg_loss = np.mean(0.5 * (self.hypothesis(x_train) - y_train) ** 2)\n",
    "        return avg_loss\n",
    "    \n",
    "    \n",
    "    def pred(self, x_train):\n",
    "        pred_y = self.hypothesis(x_train)\n",
    "        return pred_y"
   ]
  },
  {
   "cell_type": "code",
   "execution_count": 64,
   "metadata": {},
   "outputs": [],
   "source": [
    "# 生成样本数据\n",
    "def gen_sample_data(theta, num_samples):\n",
    "    x_list = np.array([[i, 1] for i in range(int(-num_samples / 2), int(num_samples / 2))]).T\n",
    "    print('x_list:',x_list)\n",
    "    y_list = theta @ x_list\n",
    "    y_list = 1 / (1 + np.exp(-y_list))\n",
    "    print('y_list:',y_list)\n",
    "    plt.scatter(x_list[0], y_list)\n",
    "    plt.show()\n",
    "    return x_list, y_list"
   ]
  },
  {
   "cell_type": "code",
   "execution_count": 65,
   "metadata": {},
   "outputs": [],
   "source": [
    "def train_test_split(x_list, y_list, train_size, seed):\n",
    "    random.seed(seed)    # 设置随机种子来保证实验结果的可重复性。\n",
    "    x_train = random.sample(tuple(x_list[0]), int(len(x_list[0]) * train_size))  # 从x_list中取75%个不重复的样本当做训练数据集\n",
    "    y_train = [y_list[list(x_list[0]).index(j)] for j in x_train]\n",
    "    x_test = [x_list[:, j] for j in range(len(x_list[0])) if x_list[0, j] not in x_train]\n",
    "    y_test = [y_list[j] for j in range(len(y_list)) if y_list[j] not in y_train]\n",
    "    x_train = np.array(x_train)\n",
    "    x_train = x_train[np.newaxis, :]\n",
    "    one = np.ones(len(x_train[0]))\n",
    "    one = one[np.newaxis, :]\n",
    "    x_train = np.append(x_train, one, axis = 0)\n",
    "    y_train = np.array(y_train)\n",
    "    x_test = np.array(x_test).T\n",
    "    y_test = np.array(y_test)\n",
    "    return x_train, y_train, x_test, y_test"
   ]
  },
  {
   "cell_type": "code",
   "execution_count": 68,
   "metadata": {},
   "outputs": [],
   "source": [
    "def run():\n",
    "    # 给定参数\n",
    "    # 利用Namespace把参数储存起来\n",
    "    args = Namespace(\n",
    "        seed = 1234,          # 指定随机种子，目的是为了使每一次生成的随机一致,伪随机数\n",
    "        num_samples = 100,    # 指定样本数量\n",
    "        train_size = 0.75,    # 训练数据集的大小\n",
    "        test_size = 0.25,     # 测试数据集的大下\n",
    "        num_epochs = 10000,     # 迭代次数\n",
    "    )\n",
    "    np.random.seed(args.seed)    # 设置随机种子来保证实验结果的可重复性。\n",
    "    #theta = np.array([np.random.randint(0, 10) + np.random.random(), np.random.randint(0, 5) + np.random.random()])   # random.random()是随机加了点噪声\n",
    "    theta = np.array([0.8, 6])\n",
    "    print('b_ori:', theta[1])\n",
    "    print('w_ori:', theta[0])\n",
    "    # 生成数据集\n",
    "    x_list, y_list= gen_sample_data(theta, args.num_samples)\n",
    "    # 划分训练集和测试集\n",
    "    x_train, y_train, x_test, y_test = train_test_split(x_list, y_list, args.train_size, args.seed)\n",
    "    print('x_train:',x_train)\n",
    "    print('y_train:',y_train)\n",
    "    print('x_test:',x_test)\n",
    "    print('y_test:',y_test)\n",
    "    lm = SGDClassifier(args.train_size * args.num_samples, args.num_epochs)\n",
    "    lm.train(x_train, y_train)\n",
    "    plt.scatter(x_train[0], lm.pred(x_train))\n",
    "    plt.show()\n",
    "    print('w:', lm.theta[0])\n",
    "    print('b:', lm.theta[1])\n",
    "    print(lm.max_iter)\n",
    "    print(lm.batch_size)"
   ]
  },
  {
   "cell_type": "code",
   "execution_count": 69,
   "metadata": {},
   "outputs": [
    {
     "name": "stdout",
     "output_type": "stream",
     "text": [
      "b_ori: 6.0\n",
      "w_ori: 0.8\n",
      "x_list: [[-50 -49 -48 -47 -46 -45 -44 -43 -42 -41 -40 -39 -38 -37 -36 -35 -34 -33\n",
      "  -32 -31 -30 -29 -28 -27 -26 -25 -24 -23 -22 -21 -20 -19 -18 -17 -16 -15\n",
      "  -14 -13 -12 -11 -10  -9  -8  -7  -6  -5  -4  -3  -2  -1   0   1   2   3\n",
      "    4   5   6   7   8   9  10  11  12  13  14  15  16  17  18  19  20  21\n",
      "   22  23  24  25  26  27  28  29  30  31  32  33  34  35  36  37  38  39\n",
      "   40  41  42  43  44  45  46  47  48  49]\n",
      " [  1   1   1   1   1   1   1   1   1   1   1   1   1   1   1   1   1   1\n",
      "    1   1   1   1   1   1   1   1   1   1   1   1   1   1   1   1   1   1\n",
      "    1   1   1   1   1   1   1   1   1   1   1   1   1   1   1   1   1   1\n",
      "    1   1   1   1   1   1   1   1   1   1   1   1   1   1   1   1   1   1\n",
      "    1   1   1   1   1   1   1   1   1   1   1   1   1   1   1   1   1   1\n",
      "    1   1   1   1   1   1   1   1   1   1]]\n",
      "y_list: [1.71390843e-15 3.81437336e-15 8.48904403e-15 1.88927149e-14\n",
      " 4.20465104e-14 9.35762297e-14 2.08257729e-13 4.63486100e-13\n",
      " 1.03150728e-12 2.29566168e-12 5.10908903e-12 1.13704867e-11\n",
      " 2.53054836e-11 5.63183895e-11 1.25338881e-10 2.78946809e-10\n",
      " 6.20807541e-10 1.38163259e-09 3.07487987e-09 6.84327098e-09\n",
      " 1.52299795e-08 3.38949421e-08 7.54345778e-08 1.67882725e-07\n",
      " 3.73629798e-07 8.31528028e-07 1.85059777e-06 4.11857174e-06\n",
      " 9.16600372e-06 2.03990873e-05 4.53978687e-05 1.01029194e-04\n",
      " 2.24816770e-04 5.00201107e-04 1.11253603e-03 2.47262316e-03\n",
      " 5.48629890e-03 1.21284350e-02 2.65969936e-02 5.73241759e-02\n",
      " 1.19202922e-01 2.31475217e-01 4.01312340e-01 5.98687660e-01\n",
      " 7.68524783e-01 8.80797078e-01 9.42675824e-01 9.73403006e-01\n",
      " 9.87871565e-01 9.94513701e-01 9.97527377e-01 9.98887464e-01\n",
      " 9.99499799e-01 9.99775183e-01 9.99898971e-01 9.99954602e-01\n",
      " 9.99979601e-01 9.99990834e-01 9.99995881e-01 9.99998149e-01\n",
      " 9.99999168e-01 9.99999626e-01 9.99999832e-01 9.99999925e-01\n",
      " 9.99999966e-01 9.99999985e-01 9.99999993e-01 9.99999997e-01\n",
      " 9.99999999e-01 9.99999999e-01 1.00000000e+00 1.00000000e+00\n",
      " 1.00000000e+00 1.00000000e+00 1.00000000e+00 1.00000000e+00\n",
      " 1.00000000e+00 1.00000000e+00 1.00000000e+00 1.00000000e+00\n",
      " 1.00000000e+00 1.00000000e+00 1.00000000e+00 1.00000000e+00\n",
      " 1.00000000e+00 1.00000000e+00 1.00000000e+00 1.00000000e+00\n",
      " 1.00000000e+00 1.00000000e+00 1.00000000e+00 1.00000000e+00\n",
      " 1.00000000e+00 1.00000000e+00 1.00000000e+00 1.00000000e+00\n",
      " 1.00000000e+00 1.00000000e+00 1.00000000e+00 1.00000000e+00]\n"
     ]
    },
    {
     "data": {
      "image/png": "[encoded data removed]",
      "text/plain": [
       "<Figure size 432x288 with 1 Axes>"
      ]
     },
     "metadata": {
      "needs_background": "light"
     },
     "output_type": "display_data"
    },
    {
     "name": "stdout",
     "output_type": "stream",
     "text": [
      "x_train: [[ 49.   6. -36. -50. -39.  24. -46.  35.  38. -40. -38.  -5. -20. -48.\n",
      "  -47.  36.  -6.  32.  29.  11.  28.   9. -31.  45. -27.  47. -49.  14.\n",
      "   12. -19. -42.  31.  19.  26.  15. -45. -16.   2. -15.  43.  -9.  27.\n",
      "   37.   4. -28. -33. -35.  18.  39. -21. -17.  -8.  23. -18.  10.  46.\n",
      "  -29. -41.   7. -26.  40.  42.  41.  20. -11. -13. -37.  -2.  -3.   0.\n",
      "   16. -10. -12. -34.  13.]\n",
      " [  1.   1.   1.   1.   1.   1.   1.   1.   1.   1.   1.   1.   1.   1.\n",
      "    1.   1.   1.   1.   1.   1.   1.   1.   1.   1.   1.   1.   1.   1.\n",
      "    1.   1.   1.   1.   1.   1.   1.   1.   1.   1.   1.   1.   1.   1.\n",
      "    1.   1.   1.   1.   1.   1.   1.   1.   1.   1.   1.   1.   1.   1.\n",
      "    1.   1.   1.   1.   1.   1.   1.   1.   1.   1.   1.   1.   1.   1.\n",
      "    1.   1.   1.   1.   1.]]\n",
      "y_train: [1.00000000e+00 9.99979601e-01 1.25338881e-10 1.71390843e-15\n",
      " 1.13704867e-11 1.00000000e+00 4.20465104e-14 1.00000000e+00\n",
      " 1.00000000e+00 5.10908903e-12 2.53054836e-11 8.80797078e-01\n",
      " 4.53978687e-05 8.48904403e-15 1.88927149e-14 1.00000000e+00\n",
      " 7.68524783e-01 1.00000000e+00 1.00000000e+00 9.99999626e-01\n",
      " 1.00000000e+00 9.99998149e-01 6.84327098e-09 1.00000000e+00\n",
      " 1.67882725e-07 1.00000000e+00 3.81437336e-15 9.99999966e-01\n",
      " 9.99999832e-01 1.01029194e-04 1.03150728e-12 1.00000000e+00\n",
      " 9.99999999e-01 1.00000000e+00 9.99999985e-01 9.35762297e-14\n",
      " 1.11253603e-03 9.99499799e-01 2.47262316e-03 1.00000000e+00\n",
      " 2.31475217e-01 1.00000000e+00 1.00000000e+00 9.99898971e-01\n",
      " 7.54345778e-08 1.38163259e-09 2.78946809e-10 9.99999999e-01\n",
      " 1.00000000e+00 2.03990873e-05 5.00201107e-04 4.01312340e-01\n",
      " 1.00000000e+00 2.24816770e-04 9.99999168e-01 1.00000000e+00\n",
      " 3.38949421e-08 2.29566168e-12 9.99990834e-01 3.73629798e-07\n",
      " 1.00000000e+00 1.00000000e+00 1.00000000e+00 1.00000000e+00\n",
      " 5.73241759e-02 1.21284350e-02 5.63183895e-11 9.87871565e-01\n",
      " 9.73403006e-01 9.97527377e-01 9.99999993e-01 1.19202922e-01\n",
      " 2.65969936e-02 6.20807541e-10 9.99999925e-01]\n",
      "x_test: [[-44 -43 -32 -30 -25 -24 -23 -22 -14  -7  -4  -1   1   3   5   8  17  21\n",
      "   22  25  30  33  34  44  48]\n",
      " [  1   1   1   1   1   1   1   1   1   1   1   1   1   1   1   1   1   1\n",
      "    1   1   1   1   1   1   1]]\n",
      "y_test: [2.08257729e-13 4.63486100e-13 3.07487987e-09 1.52299795e-08\n",
      " 8.31528028e-07 1.85059777e-06 4.11857174e-06 9.16600372e-06\n",
      " 5.48629890e-03 5.98687660e-01 9.42675824e-01 9.94513701e-01\n",
      " 9.98887464e-01 9.99775183e-01 9.99954602e-01 9.99995881e-01\n",
      " 9.99999997e-01 1.00000000e+00 1.00000000e+00 1.00000000e+00\n",
      " 1.00000000e+00 1.00000000e+00 1.00000000e+00]\n",
      "loss is 3.6625967609464986e-13\n"
     ]
    },
    {
     "data": {
      "image/png": "[encoded data removed]",
      "text/plain": [
       "<Figure size 432x288 with 1 Axes>"
      ]
     },
     "metadata": {
      "needs_background": "light"
     },
     "output_type": "display_data"
    },
    {
     "data": {
      "image/png": "[encoded data removed]",
      "text/plain": [
       "<Figure size 432x288 with 1 Axes>"
      ]
     },
     "metadata": {
      "needs_background": "light"
     },
     "output_type": "display_data"
    },
    {
     "name": "stdout",
     "output_type": "stream",
     "text": [
      "w: 0.7999893237703735\n",
      "b: 5.999907266260179\n",
      "10000\n",
      "74\n"
     ]
    }
   ],
   "source": [
    "# lr = 0.0001   max_iter = 10000     \n",
    "if __name__ == '__main__':\n",
    "    run()"
   ]
  },
  {
   "cell_type": "markdown",
   "metadata": {},
   "source": [
    "## 学习率为1，迭代步为1万左右，模型收敛"
   ]
  },
  {
   "cell_type": "code",
   "execution_count": null,
   "metadata": {},
   "outputs": [],
   "source": []
  }
 ],
 "metadata": {
  "kernelspec": {
   "display_name": "Python 3",
   "language": "python",
   "name": "python3"
  },
  "language_info": {
   "codemirror_mode": {
    "name": "ipython",
    "version": 3
   },
   "file_extension": ".py",
   "mimetype": "text/x-python",
   "name": "python",
   "nbconvert_exporter": "python",
   "pygments_lexer": "ipython3",
   "version": "3.7.1"
  }
 },
 "nbformat": 4,
 "nbformat_minor": 2
}
